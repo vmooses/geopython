{
 "cells": [
  {
   "cell_type": "code",
   "execution_count": 1,
   "metadata": {},
   "outputs": [],
   "source": [
    "from shapely.geometry import Point, LineString, Polygon\n"
   ]
  },
  {
   "cell_type": "code",
   "execution_count": 28,
   "metadata": {},
   "outputs": [
    {
     "data": {
      "image/svg+xml": [
       "<svg xmlns=\"http://www.w3.org/2000/svg\" xmlns:xlink=\"http://www.w3.org/1999/xlink\" width=\"100.0\" height=\"100.0\" viewBox=\"2.5 1.5 2.0 2.0\" preserveAspectRatio=\"xMinYMin meet\"><g transform=\"matrix(1,0,0,-1,0,5.0)\"><circle cx=\"3.5\" cy=\"2.5\" r=\"0.06\" stroke=\"#555555\" stroke-width=\"0.02\" fill=\"#66cc99\" opacity=\"0.6\" /></g></svg>"
      ],
      "text/plain": [
       "<shapely.geometry.point.Point at 0x19fafc294e0>"
      ]
     },
     "metadata": {},
     "output_type": "display_data"
    },
    {
     "data": {
      "image/svg+xml": [
       "<svg xmlns=\"http://www.w3.org/2000/svg\" xmlns:xlink=\"http://www.w3.org/1999/xlink\" width=\"100.0\" height=\"100.0\" viewBox=\"3.8 1.9 2.0 2.0\" preserveAspectRatio=\"xMinYMin meet\"><g transform=\"matrix(1,0,0,-1,0,5.8)\"><circle cx=\"4.8\" cy=\"2.9\" r=\"0.06\" stroke=\"#555555\" stroke-width=\"0.02\" fill=\"#66cc99\" opacity=\"0.6\" /></g></svg>"
      ],
      "text/plain": [
       "<shapely.geometry.point.Point at 0x19fafc29080>"
      ]
     },
     "metadata": {},
     "output_type": "display_data"
    },
    {
     "data": {
      "image/svg+xml": [
       "<svg xmlns=\"http://www.w3.org/2000/svg\" xmlns:xlink=\"http://www.w3.org/1999/xlink\" width=\"100.0\" height=\"100.0\" viewBox=\"4.8 9.0 2.0 2.0\" preserveAspectRatio=\"xMinYMin meet\"><g transform=\"matrix(1,0,0,-1,0,20.0)\"><circle cx=\"5.8\" cy=\"10.0\" r=\"0.06\" stroke=\"#555555\" stroke-width=\"0.02\" fill=\"#66cc99\" opacity=\"0.6\" /></g></svg>"
      ],
      "text/plain": [
       "<shapely.geometry.point.Point at 0x19fafc29128>"
      ]
     },
     "metadata": {},
     "output_type": "display_data"
    }
   ],
   "source": [
    "#Problem 1.1\n",
    "def createPointGeom(x_coord, y_coord):\n",
    "    point=Point(x_coord, y_coord)\n",
    "    return(point)\n",
    "\n",
    "#Demonstrating the function\n",
    "point1=createPointGeom(3.5, 2.5)\n",
    "display(point1)\n",
    "point2=createPointGeom(4.8, 2.9)\n",
    "display(point2)\n",
    "point3=createPointGeom(5.8, 10)\n",
    "display(point3)"
   ]
  },
  {
   "cell_type": "code",
   "execution_count": 95,
   "metadata": {},
   "outputs": [
    {
     "data": {
      "image/svg+xml": [
       "<svg xmlns=\"http://www.w3.org/2000/svg\" xmlns:xlink=\"http://www.w3.org/1999/xlink\" width=\"100.0\" height=\"100.0\" viewBox=\"2.332 6.532 4.5360000000000005 2.6359999999999992\" preserveAspectRatio=\"xMinYMin meet\"><g transform=\"matrix(1,0,0,-1,0,15.7)\"><polyline fill=\"none\" stroke=\"#66cc99\" stroke-width=\"0.09072000000000001\" points=\"6.7,9.0 2.5,8.7 5.5,6.7\" opacity=\"0.8\" /></g></svg>"
      ],
      "text/plain": [
       "<shapely.geometry.linestring.LineString at 0x19fafc5eef0>"
      ]
     },
     "metadata": {},
     "output_type": "display_data"
    }
   ],
   "source": [
    "#Problem 1.2\n",
    "\n",
    "def createLineGeom(point_list):\n",
    "    control=isinstance(point_list, list)  #check whether the input is a list. Aga unustasin kontrollida, kas on shapely punkt. \n",
    "    if control == True:\n",
    "        new_line=LineString(point_list)\n",
    "        return (new_line)\n",
    "    else:\n",
    "        print (\"It is not a list\")\n",
    "    \n",
    "#Alexi lahendus\n",
    "def createLineGeom(point_list):\n",
    "    check_list=[]\n",
    "    for p in point_list:\n",
    "        if isinstance (p, Point):  #object type is Point!!!\n",
    "            check_list.append(p)\n",
    "        else:\n",
    "            print (\"Not a point\")\n",
    "    if len (check_list)˃=2:\n",
    "        new_line=LineString (check_list)\n",
    "        return new_line\n",
    "    else:\n",
    "        print(\"not enough points in input list to create line\")\n",
    "        return None\n",
    "\n",
    "        \n",
    "#Demonstrating the function\n",
    "point_list=[point1, point2, point3]\n",
    "createLineGeom(point_list)\n",
    "\n",
    "point_list2=[(6.7, 9.0), (2.5, 8.7), (5.5, 6.7)]\n",
    "line_1=createLineGeom(point_list2)\n",
    "display(line_1)\n",
    "\n",
    "#Alexi lahendus\n",
    "created_point=[]\n",
    "for tup in line_coords:\n",
    "    point=createPointGeom(tup[0], tup[1])\n",
    "    created_point.append(point)\n",
    "  "
   ]
  },
  {
   "cell_type": "code",
   "execution_count": 1,
   "metadata": {},
   "outputs": [
    {
     "ename": "IndentationError",
     "evalue": "unexpected indent (<ipython-input-1-11b030b19c4f>, line 10)",
     "output_type": "error",
     "traceback": [
      "\u001b[1;36m  File \u001b[1;32m\"<ipython-input-1-11b030b19c4f>\"\u001b[1;36m, line \u001b[1;32m10\u001b[0m\n\u001b[1;33m    tup=(po.x, po.y)\u001b[0m\n\u001b[1;37m    ^\u001b[0m\n\u001b[1;31mIndentationError\u001b[0m\u001b[1;31m:\u001b[0m unexpected indent\n"
     ]
    }
   ],
   "source": [
    "# Problem 1.3\n",
    "\n",
    "def createPolyGeom(points):\n",
    "    control=isinstance (points[0], tuple)\n",
    "    if control== True:\n",
    "        new_poly=Polygon(points)\n",
    "        return(new_poly)\n",
    "    else: \n",
    "        prep_list=[]  \n",
    "            tup=(po.x, po.y)\n",
    "            prep_list.append(tup)\n",
    "        new_poly=Polygon (prep_list)\n",
    "        return (new_poly)\n",
    "    \n",
    "#Alexi lahendus\n",
    "def createPolyGeom(input_list):\n",
    "    p_coord_list=[]\n",
    "    for elem in input_list:\n",
    "        if isinstance(elem, Point):\n",
    "            p_coord_list.append((elem.x, elem.y))\n",
    "        elif isinstance (elem, tuple):\n",
    "            p_coord_list.append((elem[0], elem[1]))\n",
    "        else:\n",
    "            print(\"elem {} is not Point or Tuple object\". format(str(elem))\n",
    "    if len(p_coord_list)˃=3:\n",
    "        new_poly=Polygon(p_coord, list)\n",
    "        return new_poly\n",
    "    else:\n",
    "        print(\"not enough points in input list to create polygon\")\n",
    "        return None\n",
    "\n",
    "point_list22=[point1, point2, point3]\n",
    "point_list2=[(6.7, 9.0), (2.5, 8.7), (5.5, 6.7)]\n",
    "  \n",
    "poly_1=createPolyGeom(point_list2)\n",
    "poly_2=createPolyGeom(point_list22)\n",
    "\n",
    "display(poly_1)\n",
    "display(poly_2)"
   ]
  },
  {
   "cell_type": "code",
   "execution_count": 110,
   "metadata": {},
   "outputs": [
    {
     "name": "stdout",
     "output_type": "stream",
     "text": [
      "Centroid coordinates X:4.3232265816504025 Y:8.319517614829937\n",
      "Centroid coordinates X:3.5 Y:2.5\n",
      "Centroid coordinates X:4.8999999999999995 Y:8.133333333333333\n"
     ]
    },
    {
     "data": {
      "image/svg+xml": [
       "<svg xmlns=\"http://www.w3.org/2000/svg\" xmlns:xlink=\"http://www.w3.org/1999/xlink\" width=\"100.0\" height=\"100.0\" viewBox=\"3.8999999999999995 7.133333333333333 2.0 2.0\" preserveAspectRatio=\"xMinYMin meet\"><g transform=\"matrix(1,0,0,-1,0,16.266666666666666)\"><circle cx=\"4.8999999999999995\" cy=\"8.133333333333333\" r=\"0.06\" stroke=\"#555555\" stroke-width=\"0.02\" fill=\"#66cc99\" opacity=\"0.6\" /></g></svg>"
      ],
      "text/plain": [
       "<shapely.geometry.point.Point at 0x19fafc5e550>"
      ]
     },
     "execution_count": 110,
     "metadata": {},
     "output_type": "execute_result"
    }
   ],
   "source": [
    "# Problem 2.1\n",
    "\n",
    "def getCentroid(geom_object):\n",
    "    geomCentroid=geom_object.centroid\n",
    "    print(\"Centroid coordinates \"+ \"X:\"+ str(geomCentroid.x)+ \" Y:\"+ str(geomCentroid.y))\n",
    "    return geomCentroid\n",
    "\n",
    "getCentroid(line_1)\n",
    "getCentroid(point1)\n",
    "getCentroid (poly_1)"
   ]
  },
  {
   "cell_type": "code",
   "execution_count": 112,
   "metadata": {},
   "outputs": [
    {
     "data": {
      "text/plain": [
       "4.414999999999999"
      ]
     },
     "execution_count": 112,
     "metadata": {},
     "output_type": "execute_result"
    }
   ],
   "source": [
    "# Problem 2.2 \n",
    "\n",
    "def getArea (geom_poly):\n",
    "    geomArea=geom_poly.area\n",
    "    return geomArea\n",
    "\n",
    "# Alexi versioon, defensive programming, kontrollib enne ära, mis tüüpi objektiga on tegu. \n",
    "def getArea (test_poly):\n",
    "    if istance (test_poly, Polygon):\n",
    "        return test_poly.area  #saab nii teha ka, lihtsalt returnib selle ära. \n",
    "    else:\n",
    "        print(\"error, is not a Polygon\")\n",
    "\n",
    "getArea(poly_1)"
   ]
  },
  {
   "cell_type": "code",
   "execution_count": 121,
   "metadata": {},
   "outputs": [
    {
     "name": "stdout",
     "output_type": "stream",
     "text": [
      "10.410476283964018\n",
      "7.816251929749448\n"
     ]
    }
   ],
   "source": [
    "# Problem 2.3\n",
    "def getLength (geom_object):\n",
    "    geom_control=geom_object.geom_type\n",
    "    if geom_control==\"LineString\":\n",
    "        l_length=geom_object.length\n",
    "        return l_length\n",
    "    elif geom_control==\"Polygon\":\n",
    "        p_ext=geom_object.exterior\n",
    "        p_ext_length=p_ext.length\n",
    "        return p_ext_length\n",
    "    else:\n",
    "        print (\"Error: LineString or Polygon geometries required!\")\n",
    "        \n",
    "poly_length=getLength (poly_1)\n",
    "line_length=getLength (line_1)\n",
    "\n",
    "print(poly_length)\n",
    "print(line_length)\n",
    "\n",
    "#Alexi versioon\n",
    "def getLength (geom_object):\n",
    "    if istance(geom, LineString) or isinstance(geom, Polygon): # saab niimoodi kokku panna, üks või teine peab olema. By default it will return exterior ring of polygon\n",
    "        return geom.length\n",
    "    else:\n",
    "        print(\"Error: LineString or Polygon geometries required\")\n",
    "\n"
   ]
  },
  {
   "cell_type": "code",
   "execution_count": 173,
   "metadata": {},
   "outputs": [
    {
     "name": "stdout",
     "output_type": "stream",
     "text": [
      "   from_id    to_id      fromid_toid  route_number     at     from_x  \\\n",
      "0  5861326  5785640  5861326_5785640             1  08:10  24.970438   \n",
      "1  5861326  5785641  5861326_5785641             1  08:10  24.970438   \n",
      "2  5861326  5785642  5861326_5785642             1  08:10  24.970438   \n",
      "3  5861326  5785643  5861326_5785643             1  08:10  24.970438   \n",
      "4  5861326  5787544  5861326_5787544             1  08:10  24.970438   \n",
      "5  5861326  5787545  5861326_5787545             1  08:10  24.970438   \n",
      "6  5861326  5787546  5861326_5787546             1  08:10  24.970438   \n",
      "7  5861326  5787547  5861326_5787547             1  08:10  24.970438   \n",
      "8  5861326  5787548  5861326_5787548             1  08:10  24.970438   \n",
      "9  5861326  5787549  5861326_5787549             1  08:10  24.970438   \n",
      "\n",
      "      from_y       to_x       to_y  total_route_time  route_time  \\\n",
      "0  60.311917  24.856034  60.399941             125.0        99.0   \n",
      "1  60.311917  24.860568  60.400014             123.0       102.0   \n",
      "2  60.311917  24.865102  60.400086             125.0       103.0   \n",
      "3  60.311917  24.869636  60.400159             129.0       107.0   \n",
      "4  60.311917  24.842582  60.397478             118.0        92.0   \n",
      "5  60.311917  24.847115  60.397551             119.0        93.0   \n",
      "6  60.311917  24.851648  60.397624             123.0        96.0   \n",
      "7  60.311917  24.856182  60.397697             129.0       109.0   \n",
      "8  60.311917  24.860715  60.397770             125.0       105.0   \n",
      "9  60.311917  24.865249  60.397843             129.0       109.0   \n",
      "\n",
      "   route_distance  route_total_lines  \n",
      "0         22917.6                2.0  \n",
      "1         23123.5                2.0  \n",
      "2         23241.3                2.0  \n",
      "3         23534.2                2.0  \n",
      "4         22428.2                2.0  \n",
      "5         22497.3                2.0  \n",
      "6         22723.1                2.0  \n",
      "7         23622.4                2.0  \n",
      "8         23349.9                2.0  \n",
      "9         23642.3                2.0  \n",
      "   from_id    to_id      fromid_toid  route_number     at     from_x  \\\n",
      "0  5861326  5785640  5861326_5785640             1  08:10  24.970438   \n",
      "1  5861326  5785641  5861326_5785641             1  08:10  24.970438   \n",
      "2  5861326  5785642  5861326_5785642             1  08:10  24.970438   \n",
      "3  5861326  5785643  5861326_5785643             1  08:10  24.970438   \n",
      "4  5861326  5787544  5861326_5787544             1  08:10  24.970438   \n",
      "5  5861326  5787545  5861326_5787545             1  08:10  24.970438   \n",
      "6  5861326  5787546  5861326_5787546             1  08:10  24.970438   \n",
      "7  5861326  5787547  5861326_5787547             1  08:10  24.970438   \n",
      "8  5861326  5787548  5861326_5787548             1  08:10  24.970438   \n",
      "9  5861326  5787549  5861326_5787549             1  08:10  24.970438   \n",
      "\n",
      "      from_y       to_x       to_y  total_route_time  route_time  \\\n",
      "0  60.311917  24.856034  60.399941             125.0        99.0   \n",
      "1  60.311917  24.860568  60.400014             123.0       102.0   \n",
      "2  60.311917  24.865102  60.400086             125.0       103.0   \n",
      "3  60.311917  24.869636  60.400159             129.0       107.0   \n",
      "4  60.311917  24.842582  60.397478             118.0        92.0   \n",
      "5  60.311917  24.847115  60.397551             119.0        93.0   \n",
      "6  60.311917  24.851648  60.397624             123.0        96.0   \n",
      "7  60.311917  24.856182  60.397697             129.0       109.0   \n",
      "8  60.311917  24.860715  60.397770             125.0       105.0   \n",
      "9  60.311917  24.865249  60.397843             129.0       109.0   \n",
      "\n",
      "   route_distance  route_total_lines                   from_x_point  \\\n",
      "0         22917.6                2.0  POINT (24.9704379 60.3119173)   \n",
      "1         23123.5                2.0  POINT (24.9704379 60.3119173)   \n",
      "2         23241.3                2.0  POINT (24.9704379 60.3119173)   \n",
      "3         23534.2                2.0  POINT (24.9704379 60.3119173)   \n",
      "4         22428.2                2.0  POINT (24.9704379 60.3119173)   \n",
      "5         22497.3                2.0  POINT (24.9704379 60.3119173)   \n",
      "6         22723.1                2.0  POINT (24.9704379 60.3119173)   \n",
      "7         23622.4                2.0  POINT (24.9704379 60.3119173)   \n",
      "8         23349.9                2.0  POINT (24.9704379 60.3119173)   \n",
      "9         23642.3                2.0  POINT (24.9704379 60.3119173)   \n",
      "\n",
      "                             to_x_point  \n",
      "0         POINT (24.8560344 60.3999406)  \n",
      "1         POINT (24.8605682 60.4000135)  \n",
      "2          POINT (24.865102 60.4000863)  \n",
      "3         POINT (24.8696358 60.4001589)  \n",
      "4  POINT (24.8425817 60.39747779999999)  \n",
      "5  POINT (24.8471151 60.39755110000001)  \n",
      "6         POINT (24.8516485 60.3976244)  \n",
      "7          POINT (24.856182 60.3976975)  \n",
      "8  POINT (24.8607154 60.39777040000001)  \n",
      "9         POINT (24.8652489 60.3978432)  \n"
     ]
    }
   ],
   "source": [
    "#Problem 3\n",
    "\n",
    "import pandas as pd\n",
    "\n",
    "df = pd.read_csv('C:/Users/Veronika/geopython/L1/travelTimes_2015_Helsinki.txt', sep=';', encoding='latin1')\n",
    "\n",
    "pd.set_option('max_columns',20)\n",
    "print (df.head(10))\n",
    "\n",
    "def make_point (df, x, y):\n",
    "    df[x + '_point'] = df.apply(lambda row: Point (row[x], row[y]), axis=1) #axis=1 -- downwards row-by-row\n",
    "    return df\n",
    "\n",
    "make_point (df, 'from_x', 'from_y')\n",
    "make_point (df, 'to_x', 'to_y')\n",
    "print (df.head (10))\n",
    "\n",
    "#Alexi versioon\n",
    "def make_orig_location(row):\n",
    "    return Point (row['from_x'], row ['from_y'])\n",
    "\n",
    "df['origin_points']=df.apply(make_orig_location, axis=1)\n",
    "\n",
    "\n"
   ]
  },
  {
   "cell_type": "code",
   "execution_count": 207,
   "metadata": {},
   "outputs": [],
   "source": [
    "def rescue_code(function):\n",
    "    import inspect\n",
    "    get_ipython().set_next_input(\"\".join(inspect.getsourcelines(function)[0]))\n",
    "    \n",
    "rescue_code (make_line)"
   ]
  },
  {
   "cell_type": "code",
   "execution_count": 227,
   "metadata": {},
   "outputs": [
    {
     "name": "stdout",
     "output_type": "stream",
     "text": [
      "   from_id    to_id      fromid_toid  route_number     at     from_x  \\\n",
      "0  5861326  5785640  5861326_5785640             1  08:10  24.970438   \n",
      "1  5861326  5785641  5861326_5785641             1  08:10  24.970438   \n",
      "2  5861326  5785642  5861326_5785642             1  08:10  24.970438   \n",
      "3  5861326  5785643  5861326_5785643             1  08:10  24.970438   \n",
      "4  5861326  5787544  5861326_5787544             1  08:10  24.970438   \n",
      "5  5861326  5787545  5861326_5787545             1  08:10  24.970438   \n",
      "6  5861326  5787546  5861326_5787546             1  08:10  24.970438   \n",
      "7  5861326  5787547  5861326_5787547             1  08:10  24.970438   \n",
      "8  5861326  5787548  5861326_5787548             1  08:10  24.970438   \n",
      "9  5861326  5787549  5861326_5787549             1  08:10  24.970438   \n",
      "\n",
      "      from_y       to_x       to_y  total_route_time  route_time  \\\n",
      "0  60.311917  24.856034  60.399941             125.0        99.0   \n",
      "1  60.311917  24.860568  60.400014             123.0       102.0   \n",
      "2  60.311917  24.865102  60.400086             125.0       103.0   \n",
      "3  60.311917  24.869636  60.400159             129.0       107.0   \n",
      "4  60.311917  24.842582  60.397478             118.0        92.0   \n",
      "5  60.311917  24.847115  60.397551             119.0        93.0   \n",
      "6  60.311917  24.851648  60.397624             123.0        96.0   \n",
      "7  60.311917  24.856182  60.397697             129.0       109.0   \n",
      "8  60.311917  24.860715  60.397770             125.0       105.0   \n",
      "9  60.311917  24.865249  60.397843             129.0       109.0   \n",
      "\n",
      "   route_distance  route_total_lines                   from_x_point  \\\n",
      "0         22917.6                2.0  POINT (24.9704379 60.3119173)   \n",
      "1         23123.5                2.0  POINT (24.9704379 60.3119173)   \n",
      "2         23241.3                2.0  POINT (24.9704379 60.3119173)   \n",
      "3         23534.2                2.0  POINT (24.9704379 60.3119173)   \n",
      "4         22428.2                2.0  POINT (24.9704379 60.3119173)   \n",
      "5         22497.3                2.0  POINT (24.9704379 60.3119173)   \n",
      "6         22723.1                2.0  POINT (24.9704379 60.3119173)   \n",
      "7         23622.4                2.0  POINT (24.9704379 60.3119173)   \n",
      "8         23349.9                2.0  POINT (24.9704379 60.3119173)   \n",
      "9         23642.3                2.0  POINT (24.9704379 60.3119173)   \n",
      "\n",
      "                             to_x_point  \\\n",
      "0         POINT (24.8560344 60.3999406)   \n",
      "1         POINT (24.8605682 60.4000135)   \n",
      "2          POINT (24.865102 60.4000863)   \n",
      "3         POINT (24.8696358 60.4001589)   \n",
      "4  POINT (24.8425817 60.39747779999999)   \n",
      "5  POINT (24.8471151 60.39755110000001)   \n",
      "6         POINT (24.8516485 60.3976244)   \n",
      "7          POINT (24.856182 60.3976975)   \n",
      "8  POINT (24.8607154 60.39777040000001)   \n",
      "9         POINT (24.8652489 60.3978432)   \n",
      "\n",
      "                                               lines  line_length  \n",
      "0  LINESTRING (24.9704379 60.3119173, 24.8560344 ...     0.144348  \n",
      "1  LINESTRING (24.9704379 60.3119173, 24.8605682 ...     0.140827  \n",
      "2  LINESTRING (24.9704379 60.3119173, 24.865102 6...     0.137366  \n",
      "3  LINESTRING (24.9704379 60.3119173, 24.8696358 ...     0.133969  \n",
      "4  LINESTRING (24.9704379 60.3119173, 24.8425817 ...     0.153843  \n",
      "5  LINESTRING (24.9704379 60.3119173, 24.8471151 ...     0.150139  \n",
      "6  LINESTRING (24.9704379 60.3119173, 24.8516485 ...     0.146481  \n",
      "7  LINESTRING (24.9704379 60.3119173, 24.856182 6...     0.142873  \n",
      "8  LINESTRING (24.9704379 60.3119173, 24.8607154 ...     0.139319  \n",
      "9  LINESTRING (24.9704379 60.3119173, 24.8652489 ...     0.135823  \n",
      "0.2150222482322721\n"
     ]
    }
   ],
   "source": [
    "#Problem 4\n",
    "\n",
    "#creating lines\n",
    "def make_line (row):\n",
    "    new_line=LineString([(row['from_x_point'].x, row['from_x_point'].y), (row['to_x_point'].x, row['to_x_point'].y)])\n",
    "    return new_line\n",
    "\n",
    "#Alexi versioon\n",
    "def make_line:\n",
    "    new_line=LineString (row['origin_point'], row['detsination_point'])\n",
    "\n",
    "df['lines']=df.apply(make_line, axis=1)\n",
    "\n",
    "#print(df.head(10))\n",
    "\n",
    "#calculating line length\n",
    "def getLength (row):\n",
    "    l_length=row['lines'].length\n",
    "    return l_length\n",
    "\n",
    "df['line_length']=df.apply(getLength, axis=1)\n",
    "print(df.head(10))\n",
    "\n",
    "#calculating the mean by column\n",
    "average_length=df['line_length'].mean(axis=0)\n",
    "print(average_length)\n",
    "\n",
    "#Alexi versioon\n",
    "average_length=df['line_length'].mean()\n"
   ]
  }
 ],
 "metadata": {
  "kernelspec": {
   "display_name": "Python 3",
   "language": "python",
   "name": "python3"
  },
  "language_info": {
   "codemirror_mode": {
    "name": "ipython",
    "version": 3
   },
   "file_extension": ".py",
   "mimetype": "text/x-python",
   "name": "python",
   "nbconvert_exporter": "python",
   "pygments_lexer": "ipython3",
   "version": "3.6.6"
  }
 },
 "nbformat": 4,
 "nbformat_minor": 2
}
